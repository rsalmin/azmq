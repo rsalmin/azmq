{
  "nbformat": 4,
  "nbformat_minor": 0,
  "metadata": {
    "colab": {
      "name": "NLP_Play.ipynb",
      "provenance": [],
      "collapsed_sections": [],
      "authorship_tag": "ABX9TyPkku8t3cCzuzx34HX0uoiD",
      "include_colab_link": true
    },
    "kernelspec": {
      "name": "python3",
      "display_name": "Python 3"
    }
  },
  "cells": [
    {
      "cell_type": "markdown",
      "metadata": {
        "id": "view-in-github",
        "colab_type": "text"
      },
      "source": [
        "<a href=\"https://colab.research.google.com/github/rsalmin/azmq/blob/master/NLP_Play.ipynb\" target=\"_parent\"><img src=\"https://colab.research.google.com/assets/colab-badge.svg\" alt=\"Open In Colab\"/></a>"
      ]
    },
    {
      "cell_type": "markdown",
      "metadata": {
        "id": "wVsjMO1LtcKt"
      },
      "source": [
        "Playing with NLP following coursera course..."
      ]
    },
    {
      "cell_type": "code",
      "metadata": {
        "id": "h82laKvVtruR"
      },
      "source": [
        "from nltk.corpus import twitter_samples\n",
        "from nltk.corpus import stopwords\n",
        "from nltk.tokenize import TweetTokenizer\n",
        "import nltk\n",
        "import numpy as np\n",
        "import matplotlib.pyplot as plt\n"
      ],
      "execution_count": 1,
      "outputs": []
    },
    {
      "cell_type": "code",
      "metadata": {
        "colab": {
          "base_uri": "https://localhost:8080/"
        },
        "id": "x5z07LgAtvUD",
        "outputId": "258a9c17-4cb0-475a-8024-4eb488dc6e19"
      },
      "source": [
        "nltk.download('twitter_samples')\n",
        "nltk.download('stopwords')\n",
        "twitter_samples.ensure_loaded()\n",
        "print(twitter_samples.fileids())\n",
        "\n",
        "all_positive_tweets = twitter_samples.strings('positive_tweets.json')\n",
        "all_negative_tweets = twitter_samples.strings('negative_tweets.json')\n",
        "swords = stopwords.words('english')\n",
        "\n",
        "print(f'positive tweets {len(all_positive_tweets)}')\n",
        "print(f'netative tweets {len(all_negative_tweets)}')\n",
        "print(f'first positive tweet {all_positive_tweets[0]}')\n",
        "print(f'first negative tweet {all_negative_tweets[0]}')\n",
        "\n",
        "print(f'stop words {len(swords)}')\n",
        "print(f'stop words list {swords}')"
      ],
      "execution_count": 2,
      "outputs": [
        {
          "output_type": "stream",
          "text": [
            "[nltk_data] Downloading package twitter_samples to /root/nltk_data...\n",
            "[nltk_data]   Package twitter_samples is already up-to-date!\n",
            "[nltk_data] Downloading package stopwords to /root/nltk_data...\n",
            "[nltk_data]   Package stopwords is already up-to-date!\n",
            "['negative_tweets.json', 'positive_tweets.json', 'tweets.20150430-223406.json']\n",
            "positive tweets 5000\n",
            "netative tweets 5000\n",
            "first positive tweet #FollowFriday @France_Inte @PKuchly57 @Milipol_Paris for being top engaged members in my community this week :)\n",
            "first negative tweet hopeless for tmr :(\n",
            "stop words 179\n",
            "stop words list ['i', 'me', 'my', 'myself', 'we', 'our', 'ours', 'ourselves', 'you', \"you're\", \"you've\", \"you'll\", \"you'd\", 'your', 'yours', 'yourself', 'yourselves', 'he', 'him', 'his', 'himself', 'she', \"she's\", 'her', 'hers', 'herself', 'it', \"it's\", 'its', 'itself', 'they', 'them', 'their', 'theirs', 'themselves', 'what', 'which', 'who', 'whom', 'this', 'that', \"that'll\", 'these', 'those', 'am', 'is', 'are', 'was', 'were', 'be', 'been', 'being', 'have', 'has', 'had', 'having', 'do', 'does', 'did', 'doing', 'a', 'an', 'the', 'and', 'but', 'if', 'or', 'because', 'as', 'until', 'while', 'of', 'at', 'by', 'for', 'with', 'about', 'against', 'between', 'into', 'through', 'during', 'before', 'after', 'above', 'below', 'to', 'from', 'up', 'down', 'in', 'out', 'on', 'off', 'over', 'under', 'again', 'further', 'then', 'once', 'here', 'there', 'when', 'where', 'why', 'how', 'all', 'any', 'both', 'each', 'few', 'more', 'most', 'other', 'some', 'such', 'no', 'nor', 'not', 'only', 'own', 'same', 'so', 'than', 'too', 'very', 's', 't', 'can', 'will', 'just', 'don', \"don't\", 'should', \"should've\", 'now', 'd', 'll', 'm', 'o', 're', 've', 'y', 'ain', 'aren', \"aren't\", 'couldn', \"couldn't\", 'didn', \"didn't\", 'doesn', \"doesn't\", 'hadn', \"hadn't\", 'hasn', \"hasn't\", 'haven', \"haven't\", 'isn', \"isn't\", 'ma', 'mightn', \"mightn't\", 'mustn', \"mustn't\", 'needn', \"needn't\", 'shan', \"shan't\", 'shouldn', \"shouldn't\", 'wasn', \"wasn't\", 'weren', \"weren't\", 'won', \"won't\", 'wouldn', \"wouldn't\"]\n"
          ],
          "name": "stdout"
        }
      ]
    },
    {
      "cell_type": "code",
      "metadata": {
        "id": "5N3CFYck2xnR"
      },
      "source": [
        ""
      ],
      "execution_count": 2,
      "outputs": []
    },
    {
      "cell_type": "code",
      "metadata": {
        "id": "6oWng4fWv5Vs"
      },
      "source": [
        "def preprocess_tweets(tweets):\n",
        "  tokenizer = TweetTokenizer(strip_handles = True, preserve_case = False)\n",
        "\n",
        "  result = []\n",
        "  for tweet in tweets:\n",
        "      preprocessed_tweet = []\n",
        "      for word in tokenizer.tokenize(tweet):\n",
        "        if word not in swords:\n",
        "          preprocessed_tweet.append(word)\n",
        "      result.append( preprocessed_tweet )\n",
        "  \n",
        "  return result\n"
      ],
      "execution_count": 3,
      "outputs": []
    },
    {
      "cell_type": "code",
      "metadata": {
        "colab": {
          "base_uri": "https://localhost:8080/"
        },
        "id": "uK28tFUWz_g5",
        "outputId": "e21b9f2b-2fcc-4a34-b61e-641ef4f3d606"
      },
      "source": [
        "positive_tweets = preprocess_tweets(all_positive_tweets)\n",
        "negative_tweets = preprocess_tweets(all_negative_tweets)\n",
        "print(f'first preprocessed positive tweet {positive_tweets[0]}')\n",
        "print(f'first preprocessed negative tweet {negative_tweets[0]}')"
      ],
      "execution_count": 4,
      "outputs": [
        {
          "output_type": "stream",
          "text": [
            "first preprocessed positive tweet ['#followfriday', 'top', 'engaged', 'members', 'community', 'week', ':)']\n",
            "first preprocessed negative tweet ['hopeless', 'tmr', ':(']\n"
          ],
          "name": "stdout"
        }
      ]
    },
    {
      "cell_type": "code",
      "metadata": {
        "id": "6FAXjBoN6yRO"
      },
      "source": [
        "def build_freqs(tweets):\n",
        "  freqs = {}\n",
        "  for tweet in tweets:\n",
        "    for word in tweet:\n",
        "      freqs[word] = freqs.get(word, 0) + 1\n",
        "  return freqs"
      ],
      "execution_count": 5,
      "outputs": []
    },
    {
      "cell_type": "code",
      "metadata": {
        "id": "RYkgNoYf682s"
      },
      "source": [
        "positive_train_tweets = positive_tweets[:4000]\n",
        "negative_train_tweets = negative_tweets[:4000]\n",
        "positive_test_tweets = positive_tweets[4000:]\n",
        "negative_test_tweets = negative_tweets[4000:]\n",
        "\n",
        "positive_freqs = build_freqs(positive_train_tweets)\n",
        "negative_freqs = build_freqs(negative_train_tweets)\n",
        "\n",
        "train_tweets = positive_train_tweets + negative_train_tweets\n",
        "train_labels = [1 for x in range(len(positive_train_tweets))] + [0 for x in range(len(negative_train_tweets))]\n",
        "\n",
        "test_tweets = positive_test_tweets + negative_test_tweets\n",
        "test_labels = [1 for x in range(len(positive_test_tweets))] + [0 for x in range(len(negative_test_tweets))]"
      ],
      "execution_count": 6,
      "outputs": []
    },
    {
      "cell_type": "code",
      "metadata": {
        "id": "JcmzctOIAgec"
      },
      "source": [
        "def make_features(tweets, positive_freqs, negative_freqs):\n",
        "\n",
        "  features = []\n",
        "  for tweet in tweets:\n",
        "    positives = 0\n",
        "    negatives = 0    \n",
        "    for word in tweet:\n",
        "      positives += positive_freqs.get(word, 0)\n",
        "      negatives += negative_freqs.get(word, 0)\n",
        "    features.append( np.array([positives, negatives]) )\n",
        "  return features"
      ],
      "execution_count": 7,
      "outputs": []
    },
    {
      "cell_type": "code",
      "metadata": {
        "id": "VsSckLO8AtJ2"
      },
      "source": [
        "train_features = make_features(train_tweets, positive_freqs, negative_freqs)\n",
        "test_features = make_features(test_tweets, positive_freqs, negative_freqs)"
      ],
      "execution_count": 8,
      "outputs": []
    },
    {
      "cell_type": "code",
      "metadata": {
        "colab": {
          "base_uri": "https://localhost:8080/"
        },
        "id": "CTZDccX2Fz0I",
        "outputId": "2948ceec-e4a0-4223-a473-922b3c374874"
      },
      "source": [
        "train_features[-1]"
      ],
      "execution_count": 9,
      "outputs": [
        {
          "output_type": "execute_result",
          "data": {
            "text/plain": [
              "array([ 164, 3958])"
            ]
          },
          "metadata": {
            "tags": []
          },
          "execution_count": 9
        }
      ]
    },
    {
      "cell_type": "code",
      "metadata": {
        "colab": {
          "base_uri": "https://localhost:8080/",
          "height": 35
        },
        "id": "CZgn5jkSF2Vi",
        "outputId": "dda9247f-5698-4955-ccc5-f3aa36e8cd73"
      },
      "source": [
        "import tensorflow as tf\n",
        "tf.__version__"
      ],
      "execution_count": 10,
      "outputs": [
        {
          "output_type": "execute_result",
          "data": {
            "application/vnd.google.colaboratory.intrinsic+json": {
              "type": "string"
            },
            "text/plain": [
              "'2.4.0'"
            ]
          },
          "metadata": {
            "tags": []
          },
          "execution_count": 10
        }
      ]
    },
    {
      "cell_type": "code",
      "metadata": {
        "id": "p2p407oCYGmR"
      },
      "source": [
        "def build_model():\n",
        "  inputs = tf.keras.Input(shape=(2,))\n",
        "  outputs = tf.keras.layers.Dense(1, activation = tf.nn.sigmoid)(inputs)\n",
        "  return tf.keras.Model(inputs = inputs, outputs = outputs)\n"
      ],
      "execution_count": 11,
      "outputs": []
    },
    {
      "cell_type": "code",
      "metadata": {
        "colab": {
          "base_uri": "https://localhost:8080/"
        },
        "id": "jDGhiaD3eh5B",
        "outputId": "e43ee465-ba8f-43c0-ee56-96ac6e44de64"
      },
      "source": [
        "model = build_model()\n",
        "model.compile(optimizer = 'sgd', loss = 'binary_crossentropy', metrics = ['accuracy'])\n",
        "x = np.array(train_features)\n",
        "y = np.array(train_labels)\n",
        "model.fit(x, y, batch_size = 4000, verbose = 1, epochs = 10)\n"
      ],
      "execution_count": 12,
      "outputs": [
        {
          "output_type": "stream",
          "text": [
            "Epoch 1/10\n",
            "2/2 [==============================] - 0s 7ms/step - loss: 1487.6344 - accuracy: 0.4084\n",
            "Epoch 2/10\n",
            "2/2 [==============================] - 0s 5ms/step - loss: 146.0149 - accuracy: 0.9720\n",
            "Epoch 3/10\n",
            "2/2 [==============================] - 0s 4ms/step - loss: 76.2737 - accuracy: 0.9814\n",
            "Epoch 4/10\n",
            "2/2 [==============================] - 0s 11ms/step - loss: 64.5586 - accuracy: 0.9865\n",
            "Epoch 5/10\n",
            "2/2 [==============================] - 0s 5ms/step - loss: 66.8516 - accuracy: 0.9875\n",
            "Epoch 6/10\n",
            "2/2 [==============================] - 0s 5ms/step - loss: 62.7051 - accuracy: 0.9877\n",
            "Epoch 7/10\n",
            "2/2 [==============================] - 0s 5ms/step - loss: 56.3849 - accuracy: 0.9883\n",
            "Epoch 8/10\n",
            "2/2 [==============================] - 0s 4ms/step - loss: 61.4199 - accuracy: 0.9886\n",
            "Epoch 9/10\n",
            "2/2 [==============================] - 0s 4ms/step - loss: 61.3628 - accuracy: 0.9888\n",
            "Epoch 10/10\n",
            "2/2 [==============================] - 0s 4ms/step - loss: 57.3966 - accuracy: 0.9890\n"
          ],
          "name": "stdout"
        },
        {
          "output_type": "execute_result",
          "data": {
            "text/plain": [
              "<tensorflow.python.keras.callbacks.History at 0x7f4c937e10b8>"
            ]
          },
          "metadata": {
            "tags": []
          },
          "execution_count": 12
        }
      ]
    },
    {
      "cell_type": "code",
      "metadata": {
        "id": "EVNSX09Tf-J9"
      },
      "source": [
        "x_test = np.array(test_features)\n",
        "y_test = np.array(test_labels)\n",
        "y_pred = model.predict(x_test)"
      ],
      "execution_count": 13,
      "outputs": []
    },
    {
      "cell_type": "code",
      "metadata": {
        "colab": {
          "base_uri": "https://localhost:8080/"
        },
        "id": "ewAUY_fHhn03",
        "outputId": "e3376b6f-f8ee-443b-91a1-2ff78381792e"
      },
      "source": [
        "train_diffs = (model.predict(x).squeeze() >= 0.5) == y\n",
        "test_diffs = (y_pred.squeeze() >= 0.5) == y_test\n",
        "train_accuracy = np.sum(train_diffs) / y.shape[0]\n",
        "test_accuracy = np.sum(test_diffs) / y_pred.shape[0]\n",
        "print(f'test_accuracy = {test_accuracy}; train_accuracy = {train_accuracy}')"
      ],
      "execution_count": 23,
      "outputs": [
        {
          "output_type": "stream",
          "text": [
            "test_accuracy = 0.9875; train_accuracy = 0.988625\n"
          ],
          "name": "stdout"
        }
      ]
    },
    {
      "cell_type": "code",
      "metadata": {
        "colab": {
          "base_uri": "https://localhost:8080/"
        },
        "id": "jcQS77MLhtsp",
        "outputId": "008e5bf0-22a0-495d-cacc-5367a862324f"
      },
      "source": [
        "for i in range(train_diffs.shape[0]):\n",
        "  if not train_diffs[i]:\n",
        "    print(f'MisTweet: {train_tweets[i]} Label:{train_labels[i]}')"
      ],
      "execution_count": 39,
      "outputs": [
        {
          "output_type": "stream",
          "text": [
            "MisTweet: ['act', 'mischievousness', ',', 'calling', 'etl', 'layer', 'in-house', 'warehousing', 'app', 'katamari', '.', 'well', '…', 'name', 'implies', ':p', '.'] Label:1\n",
            "MisTweet: ['arummzz', ':', \"let's\", 'go', '...', \"i'll\", 'drive', ':p', '#traveling', '#traveler', '#yogyakarta', '#jeep', '#indonesia', '#instamood', '…', 'https://t.co/s7y4Ys5JeU'] Label:1\n",
            "MisTweet: [\"let's\", 'go', '...', \"i'll\", 'drive', ':p', '#traveling', '#traveler', '#yogyakarta', '#jeep', '#indonesia', '#instamood', '…', 'https://t.co/s7y4Ys5JeU'] Label:1\n",
            "MisTweet: ['...', 'friday', ':D', '(', ')', 'http://t.co/6rA4ZlpjO9'] Label:1\n",
            "MisTweet: ['haha', '.', 'yes', '.', '24', 'hrs', '.', 'time', 'come', 'touch', 'kepler', '452b', '.', 'chalna', 'hai', '?', '?', ':D'] Label:1\n",
            "MisTweet: ['lol', '😄', '😄', 'really', '?', \"can't\", 'believe', 'beautiful', 'girl', 'like', 'single', ':p'] Label:1\n",
            "MisTweet: ['lol', 'tough', 'choice', 'tbh', 'really', 'like', 'every', 'song', ',', 'others', ':p'] Label:1\n",
            "MisTweet: ['hahaha', 'everyone', 'fun', 'story', 'related', 'song', '.', 'got', 'labeled', 'worst', 'batch', 'principal', 'due', ':p'] Label:1\n",
            "MisTweet: ['long', 'time', 'see', ':/', '?', ':p'] Label:1\n",
            "MisTweet: ['still', 'fully', 'intend', 'write', 'many', 'game', 'designs', 'possible', '.', 'attack', 'plan', 'next', '6', 'months', '.', '>:D'] Label:1\n",
            "MisTweet: ['chweina', '...', 'xd', 'jotzh', ':D', 'dude', '...', 'go', 'school', 'waste', 'time', 'twitter', '.'] Label:1\n",
            "MisTweet: ['paindo', 'want', 'say', '#follow', ':p'] Label:1\n",
            "MisTweet: ['remember', 'one', 'time', 'go', 'flume', '/', 'kaytranada', '/', 'alunageorge', 'even', 'though', 'tickets', '?', 'still', 'want', 'kms', '.', ':', ')', ':', ')'] Label:1\n",
            "MisTweet: ['yeah', '.', '20', 'coldplay', 'songs', 'playlist', ':p', 'love', '.', 'favorites', 'scientist', ',', 'fix', ',', 'yellow', 'atlas', '.', ':p'] Label:1\n",
            "MisTweet: ['waiter', ':', 'bill', 'sir', '?', '?', 'customer', ':', 'ok', ',', 'kitchen', '?', '?', ':D'] Label:1\n",
            "MisTweet: ['family', 'time', ':D', '(', 'dj', 'resto', ')', '—', 'https://t.co/hjAiIIsq2S'] Label:1\n",
            "MisTweet: ['haha', 'hope', 'got', 'work', 'tho', '..', 'bout', 'quit', ':p'] Label:1\n",
            "MisTweet: ['real', 'mvg', '(', 'valuable', 'girlfriend', ')', 'staying', 'till', 'madrid', 'game', 'starts', ':-)'] Label:1\n",
            "MisTweet: ['weird', 'dp', ',', 'know', '?', ':p'] Label:1\n",
            "MisTweet: ['one', 'word', '?', ':p', 'https://t.co/pfxsm8w3eT'] Label:1\n",
            "MisTweet: ['dear', '.', 'please', 'ask', 'paperboys', 'keep', 'papers', 'rain', 'today', '?', 'special', 'issue', ':-)'] Label:1\n",
            "MisTweet: ['hahahaha', 'way', ':p', 'must', 'wear', 'ah', '?', 'school', 'uniform', '?'] Label:1\n",
            "MisTweet: ['knew', 'give', 'crap', 'lol', '.', 'need', 'burn', ':p'] Label:1\n",
            "MisTweet: ['hehe', ':-)', '(', 'smiling', 'ear', 'ear', '-', ')', ':-D'] Label:1\n",
            "MisTweet: ['listening', 'two', 'repeat', '.', ':D', 'collab', 'please', '?', 'https://t.co/jRfJTDSeqc'] Label:1\n",
            "MisTweet: ['promise', '...', ':p'] Label:1\n",
            "MisTweet: ['mean', 'naggy', 'anal', 'child', '?', 'want', 'keep', ':p', 'happy', 'birthday', 'buddy'] Label:1\n",
            "MisTweet: ['4:18', 'us', 'est', '...', 'yeah', ',', 'earn', 'money', 'sleep', '...', 'thing', '...', 'sleep', ':-)', '...', 'http://t.co/LdArqsrqa9'] Label:1\n",
            "MisTweet: ['well', ',', 'gel', 'know', ',', 'think', '...', 'yeah', 'alison', 'might', '.', ':p'] Label:1\n",
            "MisTweet: ['issue', '?', 'dunno', '.', 'housing', '.', 'low', 'pay', '.', 'job', 'insecurity', '.', 'nhs', '.', 'devolution', '.', 'dress', 'patriotism', 'like', ':-)'] Label:1\n",
            "MisTweet: ['?', '?', '?', ':p'] Label:1\n",
            "MisTweet: ['well', 'get', 'recruited', 'team', 'doom', '.', 'nasty', 'crew', 'going', 'affiliated', '.', '>:)'] Label:1\n",
            "MisTweet: ['(', '(', 'okay', ',', \"they're\", 'even', '!', ':D', 'goodnight', ')', ')'] Label:1\n",
            "MisTweet: ['blog', 'post', '>', 'hunger', 'games', ':', 'mockingjay', '-', 'part', '2', '(', '2015', '):', 'teasers', ':-)', 'http://t.co/QGsQkvrDIi', '#thehungergames', 'http://t.co/yOTeNaX7yR'] Label:1\n",
            "MisTweet: ['catch', ':(', '>:D', '<'] Label:1\n",
            "MisTweet: ['delicious', 'moviee', ':D', '★', 'chef', '(', 'grogol', ')', '—', 'https://t.co/LjtolXzqe3'] Label:1\n",
            "MisTweet: ['beat', 'da', 'beat', 'sits', 'well', '(', 'includes', 'new', 'video', ')', ':-)', 'http://t.co/lFm9Zq4Tj2', '#mobilegames', '#ios8', '#android', 'http://t.co/3xo8zsLtVX'] Label:1\n",
            "MisTweet: ['billie', ':-)', 'happened', 'arm', '?', '?', '?'] Label:1\n",
            "MisTweet: ['google', 'made', 'really', 'sad', 'becoming', 'prime', 'minister', '.', ':p'] Label:1\n",
            "MisTweet: ['someone', 'say', '?', ':p', '#fightstickfriday', 'http://t.co/UdzZZaJkBU'] Label:1\n",
            "MisTweet: ['big', 'floofs', 'face', 'muahah', '>:)'] Label:1\n",
            "MisTweet: ['macbook', '?', 'https://t.co/liUXCEF1gs', ':p'] Label:1\n",
            "MisTweet: [\"they're\", 'even', 'familiar', 'idea', 'snapchat', '.', 'im', 'sure', 'phones', 'question', 'bothered', 'enough', '?', ':p'] Label:1\n",
            "MisTweet: ['pegell', ',', 'lemess', '(', 'n', ')', ':D'] Label:1\n",
            "MisTweet: ['hmm', 'gold', '...', ':p'] Label:1\n",
            "MisTweet: [\"i'm\", 'active', \"i'm\", 'near', 'making', 'account', 'private', '...', ':D'] Label:1\n",
            "MisTweet: ['awake', '?', ':p'] Label:1\n",
            "MisTweet: ['angry', 'grandpa', 'plays', 'minecraft', '(', 'animation', ')', '#minecraft', 'http://t.co/GpGpQV2TTo', '←', 'click', 'aqui', ':D', 'http://t.co/HphRTT6IQZ'] Label:1\n",
            "MisTweet: ['angry', 'grandpa', 'plays', 'minecraft', '(', 'animation', ')', '#minecraft', 'http://t.co/2lqMgmagKr', '←', 'click', 'aqui', ':D', 'http://t.co/j2UaGkU9T4'] Label:1\n",
            "MisTweet: ['angry', 'grandpa', 'plays', 'minecraft', '(', 'animation', ')', '#minecraft', 'http://t.co/RYHE6sKiJ2', '←', 'click', 'aqui', ':D', 'http://t.co/pVzUoAaPIO'] Label:1\n",
            "MisTweet: [\"i'm\", 'replying', 'mention', ':p'] Label:1\n",
            "MisTweet: ['google', 'made', 'narendra', 'modi', 'really', 'sad', 'imran', 'khan', 'becoming', 'prime', 'minister', '.', ':p'] Label:1\n",
            "MisTweet: [\"what's\", 'best', 'part', 'signing', 'benteke', '?', 'play', 'united', 'chelsea', ':p'] Label:1\n",
            "MisTweet: ['ate', 'last', 'cookie', 'shir', '0', '>:D'] Label:1\n",
            "MisTweet: ['rain', '.', 'mr', ':', 'runs', '15', 'miles', '.', 'mrs', ':', 'complains', 'left', 'raincoat', 'boys', \"'\", 'car', '.', 'drive', '.', \"they'll\", 'get', 'wet', '.', ':-)'] Label:1\n",
            "MisTweet: ['arummzz', ':', \"let's\", 'go', '...', \"i'll\", 'drive', ':p', '#traveling', '#traveler', '#yogyakarta', '#jeep', '#indonesia', '#instamood', '…', 'https://t.co/228BgrLFuV'] Label:1\n",
            "MisTweet: ['wft', '..', \"can't\", 'watch', 'awesome', 'replay', '!', '!', ':-(', 'https://t.co/ChzrqtelPh'] Label:0\n",
            "MisTweet: ['gonna', 'watch', 'shit', 'understand', 'badly', 'scared', '!', '>:(', 'https://t.co/YcGudITQgx'] Label:0\n",
            "MisTweet: ['senpai', '>:(', '-', 'looks', 'buttsex', '-'] Label:0\n",
            "MisTweet: ['last', 'cross', 'country', 'ij', 'amazing', '!', '!', '!', '💥', '✨', '💫', \"can't\", 'bear', 'leave', ':-(', 'https://t.co/VkVOxIaEQn'] Label:0\n",
            "MisTweet: ['yes', 'thank', 'u', '!', '!', 'oh', 'damn', 'hella', 'sucks', ':-(', 'least', 'u', 'really', 'good', 'time', \"that's\", 'matters'] Label:0\n",
            "MisTweet: ['holy', 'fuck', 'u', 'okay', '/', 'text', 'u', 'need', 'anythin', '!', '!', '!', ':-('] Label:0\n",
            "MisTweet: ['stepped', 'puddle', ':-(', '&', \"i'm\", 'wearing', 'slippers', '!', '!'] Label:0\n",
            "MisTweet: ['cheer', '!', '!', ':-(', '😘', '💖'] Label:0\n",
            "MisTweet: [',', 'get', 'cupcake', '!', '!', '>:('] Label:0\n",
            "MisTweet: ['bra', \"shady's\", 'kisses', 'though', '!', ':-(', '#isibaya'] Label:0\n",
            "MisTweet: ['great', 'view', '!', 'shame', 'weather', 'though', ':-('] Label:0\n",
            "MisTweet: ['homed', '&', 'omg', \"i'm\", 'tanned', '!', '!', '!', ':-('] Label:0\n",
            "MisTweet: ['beast', 'next', 'week', '!', '!', '!', ':', '('] Label:0\n",
            "MisTweet: [\"i'm\", 'sure', 'pure', 'coincidence', 'done', 'nothing', 'play', 'imac', 'since', 'apple', 'music', 'launched', '!', '>:('] Label:0\n",
            "MisTweet: ['fuck', 'andy', '?', '!', '?', '!', '?', '!', '>:('] Label:0\n",
            "MisTweet: ['sure', ',', 'esp', 'ppl', 'talking', 'crap', 'millie', '!', '!', '>:(', \"i'll\", 'go', 'straight', 'fb', 'page', ':)'] Label:0\n",
            "MisTweet: ['kinda', ':-(', 'thank', '!', '!', '!', 'ill', 'def', 'th'] Label:0\n",
            "MisTweet: ['rain', '!', 'even', 'feel', 'like', 'friday', '.', '>:('] Label:0\n",
            "MisTweet: ['oh', ':-(', 'hope', 'lovely', 'time', 'though', '!', '-', 'danni'] Label:0\n",
            "MisTweet: ['oh', 'dear', '!', '!', ':-(', 'xx'] Label:0\n",
            "MisTweet: ['feeling', 'little', 'neglected', 'visit', 'postie', 'today', '!', ':-('] Label:0\n",
            "MisTweet: ['supercars', '&', 'ice', 'cream', 'many', 'gurgaon', 'locations', ':-(', 'pls', 'add', 'locations', '!'] Label:0\n",
            "MisTweet: ['ambs', 'please', \"harry's\", 'jeans', ':)', '):', '):', '):', '('] Label:0\n",
            "MisTweet: ['fuck', 'sake', '!', 'hamstring', 'injury', 'delph', ':-(', 'another', 'rodwell'] Label:0\n",
            "MisTweet: ['thought', '!', ':-('] Label:0\n",
            "MisTweet: ['thats', 'mean', '!', '!', '>:(', 'dont', 'like', 'rude', '!', 'also', 'aww', 'bc', 'keep', 'u', 'away', 'snake', ':/', 'damn', 'shouldve', 'moved'] Label:0\n",
            "MisTweet: ['oh', ',', 'forgot', \"i'd\", 'missing', 'cakes', '-', 'flapjacks', '!', ':-(', '#countthecost'] Label:0\n",
            "MisTweet: ['anytime', 'lil', 'nigga', '!', '!', '(:', '(:'] Label:0\n",
            "MisTweet: ['huhu', 'know', ':-(', 'thanks', 'satya', '!', 'xx'] Label:0\n",
            "MisTweet: ['think', \"i'm\", 'going', 'sort', 'breakdown', '!', \"'\", '2013', 'disney', 'vlog', 'taken', '!', ':-(', 'favourite', 'one', '!', ':-('] Label:0\n",
            "MisTweet: ['like', 'lip', 'balms', 'like', 'compared', '!', 'hmph', ':-('] Label:0\n",
            "MisTweet: ['belated', 'birthday', 'wishes', '(', \"can't\", 'believe', 'missed', '-', 'mind', ',', 'miss', 'bdays', ',', 'inc', '!', '!', '!', ')', '.', 'bad', 'phone', ':-('] Label:0\n",
            "MisTweet: ['\"', '...', 'set', 'two', '#pabebegirls', '!', '!', '!', '\"', 'aw', 'pabebe', ':-('] Label:0\n",
            "MisTweet: ['altered', 'sandra', 'bland', 'storify', 'btw', '!', 'quite', 'angry', 'wrote', 'originally', '-', 'best', ':-('] Label:0\n",
            "MisTweet: ['srsly', 'fuck', 'u', 'unfollower', 'hope', 'ur', 'future', 'child', 'unparents', 'u', '>:-('] Label:0\n"
          ],
          "name": "stdout"
        }
      ]
    },
    {
      "cell_type": "code",
      "metadata": {
        "colab": {
          "base_uri": "https://localhost:8080/"
        },
        "id": "iZ1CLc6IkBa1",
        "outputId": "241668e4-16fd-459b-afda-42d2c1e7f1b5"
      },
      "source": [
        "for i in range(test_diffs.shape[0]):\n",
        "  if not test_diffs[i]:\n",
        "    print(f'MisTweet: {test_tweets[i]} Label:{test_labels[i]}')"
      ],
      "execution_count": 41,
      "outputs": [
        {
          "output_type": "stream",
          "text": [
            "MisTweet: ['#am', 'ca', '.', 'retweet', 'domg', 'nanti', 'difollow', '?', '(', ':D'] Label:1\n",
            "MisTweet: ['beat', 'da', 'beat', 'sits', 'well', '(', 'includes', 'new', 'video', ')', ':-)', 'http://t.co/zJmOmpx7iv', '#mobilegame', '#ios8', '#android', 'http://t.co/LY7EnuUH8z'] Label:1\n",
            "MisTweet: ['new', 'report', 'talks', 'burn', 'calories', 'cold', ',', 'work', 'harder', 'warm', '.', 'feel', 'better', 'weather', '?', ':p'] Label:1\n",
            "MisTweet: ['harry', 'niall', '-', '94', '(', 'harry', 'born', ')', 'ik', 'stupid', 'wanna', 'change', ':D', 'https://t.co/gHAt8ZDAfF'] Label:1\n",
            "MisTweet: ['girl', ':', 'nice', 'wallet', '.', 'boy', ':', 'prada', 'hai', '..', 'girl', ':', 'rich', '..', 'boy', ':', 'stupid', ',', 'mean', 'bhai', 'ka', 'hai', '.', ':p', '#prada', '#punjabiswillgetit'] Label:1\n",
            "MisTweet: ['bad', 'would', 'remind', 'exercise', '1:12', ':-)', '.', 'miss', '.', 'needs', 'come', 'back', '.', '.'] Label:1\n",
            "MisTweet: ['always', 'part', ',', 'part', 'defenitely', '...', '♬', ':p'] Label:1\n",
            "MisTweet: ['u', 'mean', 'hide', 'fots', '?', ':p'] Label:1\n",
            "MisTweet: ['dm', '?', ':p'] Label:1\n",
            "MisTweet: ['thought', 'work', 'seasonal', ',', 'really', 'busy', 'days', '.', 'ok', 'deal', 'weekends', 'toilet', 'breaks', ':p'] Label:1\n",
            "MisTweet: ['?', 'easy.get', '5:30', ',', 'go', 'work', ',', 'come', 'home', 'bout', '6', ',', 'take', 'care', 'home', 'family', 'therein', '.', \"that's\", '.', 'see', '.', ':-)'] Label:1\n",
            "MisTweet: ['...', 'friday', ':D', '(', ')', 'http://t.co/MD55NIzEnQ'] Label:1\n",
            "MisTweet: ['case', '..', 'facebook', 'wall', '.', ':p'] Label:1\n",
            "MisTweet: ['would', 'email', '(', 'donnae.strydom@westerncape.gov.za', ')', '-', ':-)', 'ta', '-', '-', '-'] Label:1\n",
            "MisTweet: ['uff', 'itna', 'miss', 'karhy', 'thy', 'ap', ':p'] Label:1\n",
            "MisTweet: [':', 'long', 'feel', 'comfortable', 'im', 'gonna', 'wear', 'want', 'mother', ':', 'haha', '...', 'sounds', 'nice', '...', ':-)'] Label:1\n",
            "MisTweet: ['peasant', 'seats', 'watch', 'peasant', 'team', '...', 'mind', ':p', 'ahahha'] Label:1\n",
            "MisTweet: ['imagine', '!', 'would', 'shatter', 'dreams', ':-(', \"we'll\", 'let', 'colleagues', 'know', '.', '^', 'sb'] Label:0\n",
            "MisTweet: ['omg', ':-(', '(', 'love', 'much', 'monica', 'see', 'soon', 'aaahhh', '!', '!', '!'] Label:0\n",
            "MisTweet: ['happy', 'birthday', '!', 'please', 'come', 'back', 'singapore', ':-(', '😿', '💓', '💓', '💕', '😚', '😚', '😚', '❤', '️', '❤', '️', '❤', '️', '❤', '️', '❤', '️', 'http://t.co/5LIiqJqpBt'] Label:0\n",
            "MisTweet: ['>', 'pathetic', 'emotional', 'burden.says', 'likes', ',', 'cares', ',', 'hugs', ',', 'respects', ',', 'tolerates', '!', '&', 'calls', 'names', '!', ':-('] Label:0\n",
            "MisTweet: ['guys', 'nooooo', ':-(', 'wow', '!', '!', '!', 'wow', 'wow', 'wow'] Label:0\n",
            "MisTweet: ['asian', '!', '!', '!', 'ummmm', 'maybe', 'ur', 'filmed', 'child', 'pornography', ',', 'slutshamed', ',', 'faked', 'suicide', ',', 'ect', '.', ':-('] Label:0\n",
            "MisTweet: ['!', '!', 'nuggets', 'fries', '!', '!', ':-(', '('] Label:0\n",
            "MisTweet: ['slow', 'news', 'day', '!', ':-('] Label:0\n"
          ],
          "name": "stdout"
        }
      ]
    },
    {
      "cell_type": "code",
      "metadata": {
        "id": "r-7eW9P2nQog"
      },
      "source": [
        ""
      ],
      "execution_count": null,
      "outputs": []
    }
  ]
}