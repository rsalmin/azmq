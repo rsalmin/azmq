{
  "nbformat": 4,
  "nbformat_minor": 0,
  "metadata": {
    "colab": {
      "name": "NLP_Play.ipynb",
      "provenance": [],
      "collapsed_sections": [],
      "authorship_tag": "ABX9TyNDT5rbkegkgAtX2MrREwcu",
      "include_colab_link": true
    },
    "kernelspec": {
      "name": "python3",
      "display_name": "Python 3"
    }
  },
  "cells": [
    {
      "cell_type": "markdown",
      "metadata": {
        "id": "view-in-github",
        "colab_type": "text"
      },
      "source": [
        "<a href=\"https://colab.research.google.com/github/rsalmin/azmq/blob/master/NLP_Play.ipynb\" target=\"_parent\"><img src=\"https://colab.research.google.com/assets/colab-badge.svg\" alt=\"Open In Colab\"/></a>"
      ]
    },
    {
      "cell_type": "markdown",
      "metadata": {
        "id": "wVsjMO1LtcKt"
      },
      "source": [
        "Playing with NLP following coursera course..."
      ]
    },
    {
      "cell_type": "code",
      "metadata": {
        "id": "h82laKvVtruR"
      },
      "source": [
        "from nltk.corpus import twitter_samples\n",
        "from nltk.corpus import stopwords\n",
        "from nltk.tokenize import TweetTokenizer\n",
        "import nltk\n",
        "import numpy as np\n",
        "import matplotlib.pyplot as plt\n"
      ],
      "execution_count": 1,
      "outputs": []
    },
    {
      "cell_type": "code",
      "metadata": {
        "colab": {
          "base_uri": "https://localhost:8080/"
        },
        "id": "x5z07LgAtvUD",
        "outputId": "159370b9-2d6f-4862-bac9-566d370bce00"
      },
      "source": [
        "nltk.download('twitter_samples')\n",
        "nltk.download('stopwords')\n",
        "twitter_samples.ensure_loaded()\n",
        "print(twitter_samples.fileids())\n",
        "\n",
        "all_positive_tweets = twitter_samples.strings('positive_tweets.json')\n",
        "all_negative_tweets = twitter_samples.strings('negative_tweets.json')\n",
        "swords = stopwords.words('english')\n",
        "\n",
        "print(f'positive tweets {len(all_positive_tweets)}')\n",
        "print(f'netative tweets {len(all_negative_tweets)}')\n",
        "print(f'first positive tweet {all_positive_tweets[0]}')\n",
        "print(f'first negative tweet {all_negative_tweets[0]}')\n",
        "\n",
        "print(f'stop words {len(swords)}')\n",
        "print(f'stop words list {swords}')"
      ],
      "execution_count": 2,
      "outputs": [
        {
          "output_type": "stream",
          "text": [
            "[nltk_data] Downloading package twitter_samples to /root/nltk_data...\n",
            "[nltk_data]   Package twitter_samples is already up-to-date!\n",
            "[nltk_data] Downloading package stopwords to /root/nltk_data...\n",
            "[nltk_data]   Package stopwords is already up-to-date!\n",
            "['negative_tweets.json', 'positive_tweets.json', 'tweets.20150430-223406.json']\n",
            "positive tweets 5000\n",
            "netative tweets 5000\n",
            "first positive tweet #FollowFriday @France_Inte @PKuchly57 @Milipol_Paris for being top engaged members in my community this week :)\n",
            "first negative tweet hopeless for tmr :(\n",
            "stop words 179\n",
            "stop words list ['i', 'me', 'my', 'myself', 'we', 'our', 'ours', 'ourselves', 'you', \"you're\", \"you've\", \"you'll\", \"you'd\", 'your', 'yours', 'yourself', 'yourselves', 'he', 'him', 'his', 'himself', 'she', \"she's\", 'her', 'hers', 'herself', 'it', \"it's\", 'its', 'itself', 'they', 'them', 'their', 'theirs', 'themselves', 'what', 'which', 'who', 'whom', 'this', 'that', \"that'll\", 'these', 'those', 'am', 'is', 'are', 'was', 'were', 'be', 'been', 'being', 'have', 'has', 'had', 'having', 'do', 'does', 'did', 'doing', 'a', 'an', 'the', 'and', 'but', 'if', 'or', 'because', 'as', 'until', 'while', 'of', 'at', 'by', 'for', 'with', 'about', 'against', 'between', 'into', 'through', 'during', 'before', 'after', 'above', 'below', 'to', 'from', 'up', 'down', 'in', 'out', 'on', 'off', 'over', 'under', 'again', 'further', 'then', 'once', 'here', 'there', 'when', 'where', 'why', 'how', 'all', 'any', 'both', 'each', 'few', 'more', 'most', 'other', 'some', 'such', 'no', 'nor', 'not', 'only', 'own', 'same', 'so', 'than', 'too', 'very', 's', 't', 'can', 'will', 'just', 'don', \"don't\", 'should', \"should've\", 'now', 'd', 'll', 'm', 'o', 're', 've', 'y', 'ain', 'aren', \"aren't\", 'couldn', \"couldn't\", 'didn', \"didn't\", 'doesn', \"doesn't\", 'hadn', \"hadn't\", 'hasn', \"hasn't\", 'haven', \"haven't\", 'isn', \"isn't\", 'ma', 'mightn', \"mightn't\", 'mustn', \"mustn't\", 'needn', \"needn't\", 'shan', \"shan't\", 'shouldn', \"shouldn't\", 'wasn', \"wasn't\", 'weren', \"weren't\", 'won', \"won't\", 'wouldn', \"wouldn't\"]\n"
          ],
          "name": "stdout"
        }
      ]
    },
    {
      "cell_type": "code",
      "metadata": {
        "id": "5N3CFYck2xnR"
      },
      "source": [
        ""
      ],
      "execution_count": 2,
      "outputs": []
    },
    {
      "cell_type": "code",
      "metadata": {
        "id": "6oWng4fWv5Vs"
      },
      "source": [
        "def preprocess_tweets(tweets):\n",
        "  tokenizer = TweetTokenizer(strip_handles = True, preserve_case = False)\n",
        "\n",
        "  result = []\n",
        "  for tweet in tweets:\n",
        "      preprocessed_tweet = []\n",
        "      for word in tokenizer.tokenize(tweet):\n",
        "        if word not in swords:\n",
        "          preprocessed_tweet.append(word)\n",
        "      result.append( preprocessed_tweet )\n",
        "  \n",
        "  return result\n"
      ],
      "execution_count": 3,
      "outputs": []
    },
    {
      "cell_type": "code",
      "metadata": {
        "colab": {
          "base_uri": "https://localhost:8080/"
        },
        "id": "uK28tFUWz_g5",
        "outputId": "3e74569e-f47b-4a7c-dff8-748f4770a030"
      },
      "source": [
        "positive_tweets = preprocess_tweets(all_positive_tweets)\n",
        "negative_tweets = preprocess_tweets(all_negative_tweets)\n",
        "print(f'first preprocessed positive tweet {positive_tweets[0]}')\n",
        "print(f'first preprocessed negative tweet {negative_tweets[0]}')"
      ],
      "execution_count": 4,
      "outputs": [
        {
          "output_type": "stream",
          "text": [
            "first preprocessed positive tweet ['#followfriday', 'top', 'engaged', 'members', 'community', 'week', ':)']\n",
            "first preprocessed negative tweet ['hopeless', 'tmr', ':(']\n"
          ],
          "name": "stdout"
        }
      ]
    },
    {
      "cell_type": "code",
      "metadata": {
        "id": "6FAXjBoN6yRO"
      },
      "source": [
        "def build_freqs(tweets):\n",
        "  freqs = {}\n",
        "  for tweet in tweets:\n",
        "    for word in tweet:\n",
        "      freqs[word] = freqs.get(word, 0) + 1\n",
        "  return freqs"
      ],
      "execution_count": 5,
      "outputs": []
    },
    {
      "cell_type": "code",
      "metadata": {
        "id": "RYkgNoYf682s"
      },
      "source": [
        "positive_train_tweets = positive_tweets[:4000]\n",
        "negative_train_tweets = negative_tweets[:4000]\n",
        "positive_test_tweets = positive_tweets[4000:]\n",
        "negative_test_tweets = negative_tweets[4000:]\n",
        "\n",
        "positive_freqs = build_freqs(positive_train_tweets)\n",
        "negative_freqs = build_freqs(negative_train_tweets)\n",
        "\n",
        "train_tweets = positive_train_tweets + negative_train_tweets\n",
        "train_labels = [1 for x in range(len(positive_train_tweets))] + [0 for x in range(len(negative_train_tweets))]\n",
        "\n",
        "test_tweets = positive_test_tweets + negative_test_tweets\n",
        "test_labels = [1 for x in range(len(positive_test_tweets))] + [0 for x in range(len(negative_test_tweets))]"
      ],
      "execution_count": 6,
      "outputs": []
    },
    {
      "cell_type": "code",
      "metadata": {
        "id": "JcmzctOIAgec"
      },
      "source": [
        "def make_features(tweets, positive_freqs, negative_freqs):\n",
        "\n",
        "  features = []\n",
        "  for tweet in tweets:\n",
        "    positives = 0\n",
        "    negatives = 0    \n",
        "    for word in tweet:\n",
        "      positives += positive_freqs.get(word, 0)\n",
        "      negatives += negative_freqs.get(word, 0)\n",
        "    features.append( np.array([positives, negatives]) )\n",
        "  return features"
      ],
      "execution_count": 7,
      "outputs": []
    },
    {
      "cell_type": "code",
      "metadata": {
        "id": "VsSckLO8AtJ2"
      },
      "source": [
        "train_features = make_features(train_tweets, positive_freqs, negative_freqs)\n",
        "test_features = make_features(test_tweets, positive_freqs, negative_freqs)"
      ],
      "execution_count": 8,
      "outputs": []
    },
    {
      "cell_type": "code",
      "metadata": {
        "colab": {
          "base_uri": "https://localhost:8080/"
        },
        "id": "CTZDccX2Fz0I",
        "outputId": "16739c8e-6b11-4ab3-849d-a1fd0d61cc87"
      },
      "source": [
        "train_features[-1]"
      ],
      "execution_count": 9,
      "outputs": [
        {
          "output_type": "execute_result",
          "data": {
            "text/plain": [
              "array([ 164, 3958])"
            ]
          },
          "metadata": {
            "tags": []
          },
          "execution_count": 9
        }
      ]
    },
    {
      "cell_type": "code",
      "metadata": {
        "colab": {
          "base_uri": "https://localhost:8080/",
          "height": 35
        },
        "id": "CZgn5jkSF2Vi",
        "outputId": "d5f67393-3edd-4118-a72b-a4a6c4f07f90"
      },
      "source": [
        "import tensorflow as tf\n",
        "tf.__version__"
      ],
      "execution_count": 10,
      "outputs": [
        {
          "output_type": "execute_result",
          "data": {
            "application/vnd.google.colaboratory.intrinsic+json": {
              "type": "string"
            },
            "text/plain": [
              "'2.4.0'"
            ]
          },
          "metadata": {
            "tags": []
          },
          "execution_count": 10
        }
      ]
    },
    {
      "cell_type": "code",
      "metadata": {
        "id": "p2p407oCYGmR"
      },
      "source": [
        "def build_model():\n",
        "  inputs = tf.keras.Input(shape=(2,))\n",
        "  outputs = tf.keras.layers.Dense(1, activation = tf.nn.sigmoid)(inputs)\n",
        "  return tf.keras.Model(inputs = inputs, outputs = outputs)\n"
      ],
      "execution_count": 11,
      "outputs": []
    },
    {
      "cell_type": "code",
      "metadata": {
        "colab": {
          "base_uri": "https://localhost:8080/"
        },
        "id": "jDGhiaD3eh5B",
        "outputId": "d0e52422-bba3-4d9f-aa2f-1db85f349f23"
      },
      "source": [
        "model = build_model()\n",
        "model.compile(optimizer = 'sgd', loss = 'binary_crossentropy', metrics = ['accuracy'])\n",
        "x = np.array(train_features)\n",
        "y = np.array(train_labels)\n",
        "model.fit(x, y, batch_size = 4000, verbose = 1, epochs = 5)\n"
      ],
      "execution_count": 12,
      "outputs": [
        {
          "output_type": "stream",
          "text": [
            "Epoch 1/5\n",
            "2/2 [==============================] - 0s 3ms/step - loss: 1855.7525 - accuracy: 0.7731\n",
            "Epoch 2/5\n",
            "2/2 [==============================] - 0s 4ms/step - loss: 5255.2227 - accuracy: 0.6627\n",
            "Epoch 3/5\n",
            "2/2 [==============================] - 0s 5ms/step - loss: 103.6049 - accuracy: 0.9809\n",
            "Epoch 4/5\n",
            "2/2 [==============================] - 0s 4ms/step - loss: 89.9020 - accuracy: 0.9845\n",
            "Epoch 5/5\n",
            "2/2 [==============================] - 0s 4ms/step - loss: 80.0749 - accuracy: 0.9866\n"
          ],
          "name": "stdout"
        },
        {
          "output_type": "execute_result",
          "data": {
            "text/plain": [
              "<tensorflow.python.keras.callbacks.History at 0x7f72bfb6a0b8>"
            ]
          },
          "metadata": {
            "tags": []
          },
          "execution_count": 12
        }
      ]
    },
    {
      "cell_type": "code",
      "metadata": {
        "id": "EVNSX09Tf-J9"
      },
      "source": [
        "x_test = np.array(test_features)\n",
        "y_test = np.array(test_labels)\n",
        "y_pred = model.predict(x_test)"
      ],
      "execution_count": 13,
      "outputs": []
    },
    {
      "cell_type": "code",
      "metadata": {
        "colab": {
          "base_uri": "https://localhost:8080/"
        },
        "id": "ewAUY_fHhn03",
        "outputId": "c3692a6b-38c4-4871-c2ed-d1cf148dbc2d"
      },
      "source": [
        "test_accuracy = np.sum(y_pred.squeeze() == y_test) / y_pred.shape[0]\n",
        "print(f'test_accuracy = {test_accuracy}')"
      ],
      "execution_count": 14,
      "outputs": [
        {
          "output_type": "stream",
          "text": [
            "test_accuracy = 0.9875\n"
          ],
          "name": "stdout"
        }
      ]
    },
    {
      "cell_type": "code",
      "metadata": {
        "id": "jcQS77MLhtsp"
      },
      "source": [
        ""
      ],
      "execution_count": 14,
      "outputs": []
    }
  ]
}